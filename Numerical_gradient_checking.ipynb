{
  "nbformat": 4,
  "nbformat_minor": 0,
  "metadata": {
    "colab": {
      "provenance": [],
      "authorship_tag": "ABX9TyNROJ0kvAa70Ev+jdGDWEVv",
      "include_colab_link": true
    },
    "kernelspec": {
      "name": "python3",
      "display_name": "Python 3"
    },
    "language_info": {
      "name": "python"
    }
  },
  "cells": [
    {
      "cell_type": "markdown",
      "metadata": {
        "id": "view-in-github",
        "colab_type": "text"
      },
      "source": [
        "<a href=\"https://colab.research.google.com/github/chrstn-kyo/Adversarial-attacks-and-defence/blob/main/Numerical_gradient_checking.ipynb\" target=\"_parent\"><img src=\"https://colab.research.google.com/assets/colab-badge.svg\" alt=\"Open In Colab\"/></a>"
      ]
    },
    {
      "cell_type": "code",
      "source": [
        "import numpy as np\n",
        "import matplotlib.pyplot as plt"
      ],
      "metadata": {
        "id": "Jj11DKaLl40F"
      },
      "execution_count": null,
      "outputs": []
    },
    {
      "cell_type": "code",
      "source": [
        "def G(V, W, X, Y):\n",
        "\n",
        "    T_0 = np.tanh((W).dot(X))\n",
        "    T_1 = ((V).dot(T_0) - Y)\n",
        "    functionValue = (np.linalg.norm(T_1, 'fro') ** 2)\n",
        "    return functionValue"
      ],
      "metadata": {
        "id": "PwUX62BhbpXJ"
      },
      "execution_count": null,
      "outputs": []
    },
    {
      "cell_type": "code",
      "source": [
        "def deltaV(V, W, X, Y):\n",
        "\n",
        "    T_0 = np.tanh((W).dot(X))\n",
        "    T_1 = ((V).dot(T_0) - Y)\n",
        "    gradient = (2 * (T_1).dot(T_0.T))\n",
        "    return gradient"
      ],
      "metadata": {
        "id": "3OVFZ8-IbyOE"
      },
      "execution_count": null,
      "outputs": []
    },
    {
      "cell_type": "code",
      "source": [
        "def deltaW(V, W, X, Y):\n",
        "\n",
        "    T_0 = np.tanh((W).dot(X))\n",
        "    T_1 = ((V).dot(T_0) - Y)\n",
        "\n",
        "    functionValue = (np.linalg.norm(T_1, 'fro') ** 2)\n",
        "    gradient = (2 * (((V.T).dot(T_1) * (np.ones((W.shape[0], X.shape[1])) - (T_0 ** 2)))).dot(X.T))\n",
        "    return gradient"
      ],
      "metadata": {
        "id": "STxTosPNdhZ7"
      },
      "execution_count": null,
      "outputs": []
    },
    {
      "cell_type": "code",
      "source": [
        "def deltaFDV(V, W, X, Y):\n",
        "\n",
        "    t = 1E-6\n",
        "    e = np.zeros((2,2))\n",
        "    result = np.zeros((2,2))\n",
        "\n",
        "    for i in range(2):\n",
        "        for j in range(2):\n",
        "            e[i][j] = 1\n",
        "            result[i][j] = (G(V + t * e, W, X, Y) - G(V, W, X, Y)) / t\n",
        "            e[i][j] = 0\n",
        "    return result"
      ],
      "metadata": {
        "id": "gK9_48Xle3Ay"
      },
      "execution_count": null,
      "outputs": []
    },
    {
      "cell_type": "code",
      "source": [
        "def deltaFDW(V, W, X, Y):\n",
        "\n",
        "    t = 1E-6\n",
        "    e = np.zeros((2,2))\n",
        "    result = np.zeros((2,2))\n",
        "\n",
        "    for i in range(2):\n",
        "        for j in range(2):\n",
        "            e[i][j] = 1\n",
        "            result[i][j] = (G(V, W + t * e, X, Y) - G(V, W, X, Y)) / t\n",
        "            e[i][j] = 0\n",
        "    return result"
      ],
      "metadata": {
        "id": "FHUey184e3eo"
      },
      "execution_count": null,
      "outputs": []
    },
    {
      "cell_type": "code",
      "source": [
        "def checkGradient(V, W, X, Y):\n",
        "\n",
        "\n",
        "    print('approximation error on gradient wrt V :',\n",
        "          np.linalg.norm(deltaFDV(V, W, X, Y) - deltaV(V, W, X, Y)))\n",
        "    print('approximation error on gradient wrt W :',\n",
        "          np.linalg.norm(deltaFDV(V, W, X, Y) - deltaV(V, W, X, Y)))\n",
        "\n"
      ],
      "metadata": {
        "id": "m0ozWUGRlEO-"
      },
      "execution_count": null,
      "outputs": []
    },
    {
      "cell_type": "code",
      "source": [
        "def generateRandomData():\n",
        "\n",
        "    V = np.random.randn(2, 2)\n",
        "    W = np.random.randn(2, 2)\n",
        "    X = np.random.randn(2, 2)\n",
        "    Y = np.random.randn(2, 2)\n",
        "\n",
        "    return V, W, X, Y\n",
        "\n",
        "V, W, X, Y = generateRandomData()\n",
        "\n",
        "print('functionValue = ', G(V, W, X, Y))\n",
        "print('gradient wrt V = ', deltaV(V, W, X, Y))\n",
        "print('gradient wrt W = ', deltaW(V, W, X, Y))\n",
        "print('numerical gradient wrt V = ', deltaFDV(V, W, X, Y))\n",
        "print('numerical gradient wrt W = ', deltaFDW(V, W, X, Y))\n",
        "print('numerical gradient checking ...')\n",
        "checkGradient(V, W, X, Y)"
      ],
      "metadata": {
        "colab": {
          "base_uri": "https://localhost:8080/"
        },
        "id": "sjwgr7CBlN-q",
        "outputId": "ed6c4cfe-d869-44cb-b1b6-ba36e4649d1a"
      },
      "execution_count": null,
      "outputs": [
        {
          "output_type": "stream",
          "name": "stdout",
          "text": [
            "functionValue =  1.1146795436187327\n",
            "gradient wrt V =  [[-0.09547643  2.31512965]\n",
            " [ 0.2024836  -1.49677966]]\n",
            "gradient wrt W =  [[-0.04340734  0.02317401]\n",
            " [ 0.01192399 -0.00494851]]\n",
            "numerical gradient wrt V =  [[-0.09547622  2.31513142]\n",
            " [ 0.20248381 -1.49677789]]\n",
            "numerical gradient wrt W =  [[-0.04340733  0.02317401]\n",
            " [ 0.01192401 -0.00494851]]\n",
            "numerical gradient checking ...\n",
            "approximation error on gradient wrt V : 2.514427075038876e-06\n",
            "approximation error on gradient wrt W : 2.514427075038876e-06\n"
          ]
        }
      ]
    },
    {
      "cell_type": "code",
      "source": [
        "def naivegradientdescent(V, W, X, Y, niter = 100, alpha = 0.001):\n",
        "    E = np.zeros((niter,1))\n",
        "\n",
        "    for i in range(niter):\n",
        "        E[i] = G(V, W, X, Y)\n",
        "        V = V - alpha*deltaV(V, W, X, Y)\n",
        "        W = W - alpha*deltaW(V, W, X, Y)\n",
        "\n",
        "    plt.plot(E)\n",
        "    plt.axis('tight')\n",
        "    plt."
      ],
      "metadata": {
        "id": "GfWDJiooSuTW"
      },
      "execution_count": null,
      "outputs": []
    },
    {
      "cell_type": "code",
      "source": [
        "V, W, X, Y = generateRandomData()\n",
        "\n",
        "naivegradientdescent(V, W, X, Y)"
      ],
      "metadata": {
        "colab": {
          "base_uri": "https://localhost:8080/",
          "height": 430
        },
        "id": "OQtvl_VOa7_o",
        "outputId": "bb5ea480-955b-44e4-96a2-d186c9f98931"
      },
      "execution_count": null,
      "outputs": [
        {
          "output_type": "display_data",
          "data": {
            "text/plain": [
              "<Figure size 640x480 with 1 Axes>"
            ],
            "image/png": "[encoded data removed]"
          },
          "metadata": {}
        }
      ]
    },
    {
      "cell_type": "code",
      "source": [
        "def alternatinggradient(V, W, X, Y, niter = 100, alpha = 0.001, beta = 0.002):\n",
        "    E = np.zeros((niter,1))\n",
        "\n",
        "    for i in range(niter):\n",
        "        E[i] = G(V, W, X, Y)\n",
        "        V1 = V - alpha*deltaV(V, W, X, Y)\n",
        "        W = W - beta*deltaW(V1, W, X, Y)\n",
        "        V = V1\n",
        "\n",
        "    plt.plot(E)\n",
        "    plt.axis('tight')"
      ],
      "metadata": {
        "id": "nxxKWpOwcFFs"
      },
      "execution_count": null,
      "outputs": []
    },
    {
      "cell_type": "code",
      "source": [
        "V, W, X, Y = generateRandomData()\n",
        "\n",
        "alternatinggradient(V, W, X, Y)"
      ],
      "metadata": {
        "colab": {
          "base_uri": "https://localhost:8080/",
          "height": 431
        },
        "id": "s_Nuydv5e0Qg",
        "outputId": "7632269b-0bfc-461e-9cbb-25575a00c606"
      },
      "execution_count": null,
      "outputs": [
        {
          "output_type": "display_data",
          "data": {
            "text/plain": [
              "<Figure size 640x480 with 1 Axes>"
            ],
            "image/png": "[encoded data removed]"
          },
          "metadata": {}
        }
      ]
    },
    {
      "cell_type": "code",
      "source": [
        "def variableprojection(V, W, X, Y, beta = 0.001, niter = 100):\n",
        "\n",
        "    E = np.zeros((niter,1))\n",
        "\n",
        "    for i in range(niter):\n",
        "        E[i] = G(V, W, X, Y)\n",
        "        # V1 = argmin(G(V,W, X, Y))\n",
        "        W = W - beta*deltaW(V, W, X, Y)\n",
        "        V = V1\n",
        "\n",
        "    plt.plot(E)\n",
        "    plt.axis('tight')"
      ],
      "metadata": {
        "id": "BuXrOttOfPMi"
      },
      "execution_count": null,
      "outputs": []
    },
    {
      "cell_type": "code",
      "source": [],
      "metadata": {
        "id": "wlSQ6dBp1NUr"
      },
      "execution_count": null,
      "outputs": []
    }
  ]
}