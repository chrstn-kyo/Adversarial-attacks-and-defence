{
  "nbformat": 4,
  "nbformat_minor": 0,
  "metadata": {
    "colab": {
      "provenance": [],
      "authorship_tag": "ABX9TyPN/NSkHAqhk3NyjBcCr+Dy",
      "include_colab_link": true
    },
    "kernelspec": {
      "name": "python3",
      "display_name": "Python 3"
    },
    "language_info": {
      "name": "python"
    }
  },
  "cells": [
    {
      "cell_type": "markdown",
      "metadata": {
        "id": "view-in-github",
        "colab_type": "text"
      },
      "source": [
        "<a href=\"https://colab.research.google.com/github/chrstn-kyo/Adversarial-attacks-and-defence/blob/main/Numerical_gradient_checking_v1.ipynb\" target=\"_parent\"><img src=\"https://colab.research.google.com/assets/colab-badge.svg\" alt=\"Open In Colab\"/></a>"
      ]
    },
    {
      "cell_type": "code",
      "source": [
        "import numpy as np\n",
        "import matplotlib.pyplot as plt"
      ],
      "metadata": {
        "id": "Jj11DKaLl40F"
      },
      "execution_count": 1,
      "outputs": []
    },
    {
      "cell_type": "code",
      "source": [
        "\n",
        "t = 1E-6"
      ],
      "metadata": {
        "id": "qOjr8nYCHvs4"
      },
      "execution_count": 2,
      "outputs": []
    },
    {
      "cell_type": "code",
      "source": [
        "def G(V, W, X, Y):\n",
        "    T_0 = np.tanh((W).dot(X))\n",
        "    T_1 = ((V).dot(T_0) - Y)\n",
        "    functionValue = (np.linalg.norm(T_1, 'fro') ** 2)\n",
        "    return functionValue"
      ],
      "metadata": {
        "id": "PwUX62BhbpXJ"
      },
      "execution_count": 3,
      "outputs": []
    },
    {
      "cell_type": "code",
      "source": [
        "def deltaV(V, W, X, Y):\n",
        "    T_0 = np.tanh((W).dot(X))\n",
        "    T_1 = ((V).dot(T_0) - Y)\n",
        "    gradient = (2 * (T_1).dot(T_0.T))\n",
        "    return gradient"
      ],
      "metadata": {
        "id": "3OVFZ8-IbyOE"
      },
      "execution_count": 4,
      "outputs": []
    },
    {
      "cell_type": "code",
      "source": [
        "def deltaW(V, W, X, Y):\n",
        "    T_0 = np.tanh((W).dot(X))\n",
        "    T_1 = ((V).dot(T_0) - Y)\n",
        "\n",
        "    gradient = (2 * (((V.T).dot(T_1) * (np.ones((W.shape[0], X.shape[1])) - (T_0 ** 2)))).dot(X.T))\n",
        "    return gradient"
      ],
      "metadata": {
        "id": "STxTosPNdhZ7"
      },
      "execution_count": 5,
      "outputs": []
    },
    {
      "cell_type": "code",
      "source": [
        "def deltaFDV(V, W, X, Y):\n",
        "    t = 1E-6\n",
        "    e = np.zeros((2,2))\n",
        "    result = np.zeros((2,2))\n",
        "\n",
        "    for i in range(2):\n",
        "        for j in range(2):\n",
        "            e[i][j] = 1\n",
        "            result[i][j] = (G(V + t * e, W, X, Y) - G(V, W, X, Y)) / t\n",
        "            e[i][j] = 0\n",
        "    return result"
      ],
      "metadata": {
        "id": "gK9_48Xle3Ay"
      },
      "execution_count": 6,
      "outputs": []
    },
    {
      "cell_type": "code",
      "source": [
        "def deltaFDW(V, W, X, Y):\n",
        "    t = 1E-6\n",
        "\n",
        "    e = np.zeros((2,2))\n",
        "    result = np.zeros((2,2))\n",
        "\n",
        "    for i in range(2):\n",
        "        for j in range(2):\n",
        "            e[i][j] = 1\n",
        "            result[i][j] = (G(V, W + t * e, X, Y) - G(V, W, X, Y)) / t\n",
        "            e[i][j] = 0\n",
        "    return result"
      ],
      "metadata": {
        "id": "FHUey184e3eo"
      },
      "execution_count": 124,
      "outputs": []
    },
    {
      "cell_type": "code",
      "source": [
        "def checkGradient(V, W, X, Y):\n",
        "\n",
        "    print('approximation error on gradient wrt V :',\n",
        "          np.linalg.norm(deltaFDV(V, W, X, Y) - deltaV(V, W, X, Y)))\n",
        "    print('approximation error on gradient wrt W :',\n",
        "          np.linalg.norm(deltaFDV(V, W, X, Y) - deltaV(V, W, X, Y)))\n",
        "\n"
      ],
      "metadata": {
        "id": "m0ozWUGRlEO-"
      },
      "execution_count": 8,
      "outputs": []
    },
    {
      "cell_type": "code",
      "source": [
        "def generateRandomData():\n",
        "\n",
        "    V = np.random.randn(2, 2)\n",
        "    W = np.random.randn(2, 2)\n",
        "    X = np.random.randn(2, 2)\n",
        "    Y = np.random.randn(2, 2)\n",
        "\n",
        "    return V, W, X, Y\n",
        "\n",
        "V, W, X, Y = generateRandomData()\n",
        "\n",
        "print('functionValue = ', G(V, W, X, Y))\n",
        "print('gradient wrt V = ', deltaV(V, W, X, Y))\n",
        "print('gradient wrt W = ', deltaW(V, W, X, Y))\n",
        "print('numerical gradient wrt V = ', deltaFDV(V, W, X, Y))\n",
        "print('numerical gradient wrt W = ', deltaFDW(V, W, X, Y))\n",
        "print('numerical gradient checking ...')\n",
        "checkGradient(V, W, X, Y)"
      ],
      "metadata": {
        "colab": {
          "base_uri": "https://localhost:8080/"
        },
        "id": "sjwgr7CBlN-q",
        "outputId": "e27f683d-1bba-4730-871c-d589479c151c"
      },
      "execution_count": 125,
      "outputs": [
        {
          "output_type": "stream",
          "name": "stdout",
          "text": [
            "functionValue =  5.251001204453727\n",
            "gradient wrt V =  [[-2.06311077 -2.92503328]\n",
            " [-1.90532968 -1.62525519]]\n",
            "gradient wrt W =  [[-5.41275359  6.40068741]\n",
            " [-3.48278088  4.88689555]]\n",
            "numerical gradient wrt V =  [[-2.06311027 -2.92503258]\n",
            " [-1.90532918 -1.62525449]]\n",
            "numerical gradient wrt W =  [[-5.41275316  6.40068612]\n",
            " [-3.48278133  4.88689542]]\n",
            "numerical gradient checking ...\n",
            "approximation error on gradient wrt V : 1.2145848104679139e-06\n",
            "approximation error on gradient wrt W : 1.2145848104679139e-06\n"
          ]
        }
      ]
    },
    {
      "cell_type": "code",
      "source": [
        "def naivegradientdescent(V, W, X, Y, niter = 100, alpha = 0.001):\n",
        "    E = np.zeros((niter,1))\n",
        "\n",
        "    for i in range(niter):\n",
        "        E[i] = G(V, W, X, Y)\n",
        "        V = V - alpha*deltaV(V, W, X, Y)\n",
        "        W = W - alpha*deltaW(V, W, X, Y)\n",
        "    print(E[-1,:])\n",
        "    plt.plot(E)\n",
        "    plt.axis('tight')"
      ],
      "metadata": {
        "id": "GfWDJiooSuTW"
      },
      "execution_count": 59,
      "outputs": []
    },
    {
      "cell_type": "code",
      "source": [
        "def alternatinggradient(V, W, X, Y, niter = 100, alpha = 0.001, beta = 0.002):\n",
        "    E = np.zeros((niter,1))\n",
        "\n",
        "    for i in range(niter):\n",
        "        E[i] = G(V, W, X, Y)\n",
        "        V1 = V - alpha*deltaV(V, W, X, Y)\n",
        "        W = W - beta*deltaW(V1, W, X, Y)\n",
        "        V = V1\n",
        "    print(E[-1,:])\n",
        "    plt.plot(E)\n",
        "    plt.axis('tight')"
      ],
      "metadata": {
        "id": "nxxKWpOwcFFs"
      },
      "execution_count": 60,
      "outputs": []
    },
    {
      "cell_type": "code",
      "source": [
        "def linesearch(V1, beta = 1):\n",
        "    while G(V1, W - beta*deltaW(V1, W, X, Y), X, Y) < G(V1, W, X, Y) - 0.0001*beta*(np.linalg.norm(deltaW(V1, W, X, Y), 'fro') ** 2):\n",
        "        beta = beta // 2\n",
        "    return beta\n",
        ""
      ],
      "metadata": {
        "id": "eG_PaY3CmoAh"
      },
      "execution_count": 88,
      "outputs": []
    },
    {
      "cell_type": "code",
      "source": [
        "def variableprojection(V, W, X, Y, niter = 1000):\n",
        "\n",
        "    T_0 = np.tanh((W).dot(X))\n",
        "    E = np.zeros((niter,1))\n",
        "    beta = 0.001\n",
        "    for i in range(niter):\n",
        "        E[i] = G(V, W, X, Y)\n",
        "\n",
        "        # V1 = argmin(G(V,W, X, Y)\n",
        "\n",
        "        # print('V :', V,\n",
        "        #       'W:', W,\n",
        "        #       'deltaW:', deltaW(V, W, X, Y))\n",
        "\n",
        "        V1 = Y.dot(T_0.T).dot(np.linalg.inv(T_0.dot(T_0.T)))\n",
        "        W1 = W - linesearch(V1)*deltaW(V1, W, X, Y)\n",
        "        T_0 = np.tanh((W1).dot(X))\n",
        "        V = V1\n",
        "        W = W1\n",
        "\n",
        "    print(E[-1,:])\n",
        "    plt.plot(E)\n",
        "    plt.axis('tight')"
      ],
      "metadata": {
        "id": "BuXrOttOfPMi"
      },
      "execution_count": 89,
      "outputs": []
    },
    {
      "cell_type": "code",
      "source": [
        "V, W, X, Y = generateRandomData()\n",
        "\n",
        "naivegradientdescent(V, W, X, Y, niter=1000)"
      ],
      "metadata": {
        "id": "wlSQ6dBp1NUr",
        "colab": {
          "base_uri": "https://localhost:8080/",
          "height": 447
        },
        "outputId": "d7bdc527-4087-4476-e183-aa3c837fb9c1"
      },
      "execution_count": 126,
      "outputs": [
        {
          "output_type": "stream",
          "name": "stdout",
          "text": [
            "[1.0737171]\n"
          ]
        },
        {
          "output_type": "display_data",
          "data": {
            "text/plain": [
              "<Figure size 640x480 with 1 Axes>"
            ],
            "image/png": "[encoded data removed]"
          },
          "metadata": {}
        }
      ]
    },
    {
      "cell_type": "code",
      "source": [
        "alternatinggradient(V, W, X, Y, niter=1000)"
      ],
      "metadata": {
        "colab": {
          "base_uri": "https://localhost:8080/",
          "height": 447
        },
        "id": "vZ_4TH1YL2O5",
        "outputId": "593ca4df-5a30-4ff1-a313-bfd6d75bfa7e"
      },
      "execution_count": 127,
      "outputs": [
        {
          "output_type": "stream",
          "name": "stdout",
          "text": [
            "[1.00680214]\n"
          ]
        },
        {
          "output_type": "display_data",
          "data": {
            "text/plain": [
              "<Figure size 640x480 with 1 Axes>"
            ],
            "image/png": "[encoded data removed]"
          },
          "metadata": {}
        }
      ]
    },
    {
      "cell_type": "code",
      "source": [
        "variableprojection(V, W, X, Y, niter=1000)"
      ],
      "metadata": {
        "colab": {
          "base_uri": "https://localhost:8080/",
          "height": 447
        },
        "id": "Oeld6vwaL5a-",
        "outputId": "3612c193-f8e4-4da1-e830-4d8364376faa"
      },
      "execution_count": 128,
      "outputs": [
        {
          "output_type": "stream",
          "name": "stdout",
          "text": [
            "[3.93721323e-21]\n"
          ]
        },
        {
          "output_type": "display_data",
          "data": {
            "text/plain": [
              "<Figure size 640x480 with 1 Axes>"
            ],
            "image/png": "[encoded data removed]"
          },
          "metadata": {}
        }
      ]
    }
  ]
}